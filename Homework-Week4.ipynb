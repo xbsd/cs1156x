{
 "metadata": {
  "name": "",
  "signature": "sha256:39d45c6cc7a5a248154c77d0423f7a2e8da90b0f68aa0baa6d1a145fcad39004"
 },
 "nbformat": 3,
 "nbformat_minor": 0,
 "worksheets": [
  {
   "cells": [
    {
     "cell_type": "code",
     "collapsed": false,
     "input": [
      "import math\n",
      "import random\n",
      "import numpy as np\n",
      "# Homework 4"
     ],
     "language": "python",
     "metadata": {},
     "outputs": [],
     "prompt_number": 47
    },
    {
     "cell_type": "code",
     "collapsed": false,
     "input": [
      "math.log(math.exp(1))"
     ],
     "language": "python",
     "metadata": {},
     "outputs": [
      {
       "metadata": {},
       "output_type": "pyout",
       "prompt_number": 6,
       "text": [
        "1.0"
       ]
      }
     ],
     "prompt_number": 6
    },
    {
     "cell_type": "code",
     "collapsed": false,
     "input": [
      "# Question 1\n",
      "def getN (N, delta, dvc):\n",
      "    return (8./N)*math.log((4*(2*N)**dvc + 4)/delta)"
     ],
     "language": "python",
     "metadata": {},
     "outputs": [],
     "prompt_number": 9
    },
    {
     "cell_type": "code",
     "collapsed": false,
     "input": [
      "for i in (range(400000, 500000, 20000)):\n",
      "    print i, getN(N=i, delta=0.05, dvc = 10), abs(getN(N=i, delta=0.05, dvc = 10) - 0.0025)*10**5"
     ],
     "language": "python",
     "metadata": {},
     "outputs": [
      {
       "output_type": "stream",
       "stream": "stdout",
       "text": [
        "400000 0.00280611393402 30.6113934023\n",
        "420000 0.00268178282558 18.1782825578\n",
        "440000 0.00256834179089 6.83417908949\n",
        "460000 0.00246440549782 3.55945021752\n",
        "480000 0.00236881520449 13.1184795515\n"
       ]
      }
     ],
     "prompt_number": 16
    },
    {
     "cell_type": "code",
     "collapsed": false,
     "input": [
      "# Question 2\n",
      "\n",
      "def ParrondoBroeck(epsilon, N):\n",
      "    return math.sqrt((1/N) * ((2*epsilon) + math.log((6*((2*N)**dvc + 1))/delta)))\n",
      "\n",
      "def Devroye(epsilon, N):\n",
      "    #return math.sqrt((1/(2*N))*(4 * epsilon * (1 + epsilon) + math.log((4*((N**2)**dvc)+1)/delta)))\n",
      "    return math.sqrt((1/(2*N))*(4*epsilon*(1+epsilon) + (50*math.log(N**2) + math.log(4) - math.log(delta))))\n",
      "\n"
     ],
     "language": "python",
     "metadata": {},
     "outputs": [],
     "prompt_number": 41
    },
    {
     "cell_type": "code",
     "collapsed": false,
     "input": [
      "N = 10000.\n",
      "delta = 0.05\n",
      "dvc = 50.\n",
      "\n",
      "\n",
      "VC_e = math.sqrt(8/N * math.log (4*((2*N)**dvc + 1)/delta))\n",
      "print \"VC_e <= \", VC_e\n",
      "\n",
      "Rademacher_e = math.sqrt(2 * math.log(2*N*(N**dvc + 1))/N) + math.sqrt((2/N)*math.log(1/delta)) + 1/N\n",
      "print \"Rademacher_e <= \", Rademacher_e\n",
      "\n",
      "print \"Parrondo Broeck\"\n",
      "for i in np.arange(0.2,0.3,0.01):\n",
      "    print i, ParrondoBroeck(i, N), i < ParrondoBroeck(i, N)\n",
      "\n",
      "print \"----------\"\n",
      "\n",
      "print \"Devroye\"\n",
      "for i in np.arange(0.2,0.3,0.01):\n",
      "    print i, Devroye(i, N), i < Devroye(i, N)\n",
      "\n",
      "# It seems based on the below that Devroye has the smallest epsilon value"
     ],
     "language": "python",
     "metadata": {},
     "outputs": [
      {
       "output_type": "stream",
       "stream": "stdout",
       "text": [
        "VC_e <=  0.632174915201\n",
        "Rademacher_e <=  0.331308785962\n",
        "Parrondo Broeck\n",
        "0.2 0.223687699566 True\n",
        "0.21 0.223692170039 True\n",
        "0.22 0.223696640424 True\n",
        "0.23 0.223701110719 False\n",
        "0.24 0.223705580925 False\n",
        "0.25 0.223710051041 False\n",
        "0.26 0.223714521069 False\n",
        "0.27 0.223718991006 False\n",
        "0.28 0.223723460855 False\n",
        "0.29 0.223727930614 False\n",
        "----------\n",
        "Devroye\n",
        "0.2 0.215218036399 True\n",
        "0.21 0.215224587795 True\n",
        "0.22 0.215231231915 False\n",
        "0.23 0.21523796875 False\n",
        "0.24 0.215244798292 False\n",
        "0.25 0.215251720531 False\n",
        "0.26 0.215258735459 False\n",
        "0.27 0.215265843068 False\n",
        "0.28 0.215273043346 False\n",
        "0.29 0.215280336286 False\n"
       ]
      }
     ],
     "prompt_number": 42
    },
    {
     "cell_type": "code",
     "collapsed": false,
     "input": [],
     "language": "python",
     "metadata": {},
     "outputs": [],
     "prompt_number": 35
    },
    {
     "cell_type": "code",
     "collapsed": false,
     "input": [
      "# Question 3 -- Using N = 5\n",
      "N = 5.\n",
      "delta = 0.05\n",
      "dvc = 50.\n",
      "\n",
      "VC_e = math.sqrt(8/N * math.log (4*((2*N)**dvc + 1)/delta))\n",
      "print \"VC_e <= \", VC_e\n",
      "\n",
      "Rademacher_e = math.sqrt(2 * math.log(2*N*(N**dvc + 1))/N) + math.sqrt((2/N)*math.log(1/delta)) + 1/N\n",
      "print \"Rademacher_e <= \", Rademacher_e\n",
      "\n",
      "print \"Parrondo Broeck\"\n",
      "for i in np.arange(5,6,0.05):\n",
      "    print i, ParrondoBroeck(i, N), i < ParrondoBroeck(i, N)\n",
      "\n",
      "print \"-------------\"\n",
      "print \"Devroye\"\n",
      "for i in np.arange(5,6,0.05):\n",
      "    print i, Devroye(i, N), i < Devroye(i, N)\n",
      "\n",
      "# Based on the results given below, we conclude that Parrondo Broeck gives us the smallest bound\n"
     ],
     "language": "python",
     "metadata": {},
     "outputs": [
      {
       "output_type": "stream",
       "stream": "stdout",
       "text": [
        "VC_e <=  13.828161485\n",
        "Rademacher_e <=  7.04877656418\n",
        "Parrondo Broeck\n",
        "5.0 5.09738651453 True\n",
        "5.05 5.09934792679 True\n",
        "5.1 5.10130858491 True\n",
        "5.15 5.10326848975 False\n",
        "5.2 5.10522764218 False\n",
        "5.25 5.10718604307 False\n",
        "5.3 5.10914369327 False\n",
        "5.35 5.11110059366 False\n",
        "5.4 5.11305674509 False\n",
        "5.45 5.11501214842 False\n",
        "5.5 5.11696680451 False\n",
        "5.55 5.11892071422 False\n",
        "5.6 5.1208738784 False\n",
        "5.65 5.1228262979 False\n",
        "5.7 5.12477797358 False\n",
        "5.75 5.12672890628 False\n",
        "5.8 5.12867909685 False\n",
        "5.85 5.13062854614 False\n",
        "5.9 5.132577255 False\n",
        "5.95 5.13452522425 False\n",
        "-------------\n",
        "Devroye\n",
        "5.0 5.34158981838 True\n",
        "5.05 5.36223664041 True\n",
        "5.1 5.38299004159 True\n",
        "5.15 5.40384879394 True\n",
        "5.2 5.42481168224 True\n",
        "5.25 5.44587750393 True\n",
        "5.3 5.46704506912 True\n",
        "5.35 5.48831320059 True\n",
        "5.4 5.50968073375 True\n",
        "5.45 5.53114651657 True\n",
        "5.5 5.55270940963 True\n",
        "5.55 5.57436828599 True\n",
        "5.6 5.59612203118 False\n",
        "5.65 5.61796954315 False\n",
        "5.7 5.63990973224 False\n",
        "5.75 5.66194152105 False\n",
        "5.8 5.68406384445 False\n",
        "5.85 5.70627564948 False\n",
        "5.9 5.72857589526 False\n",
        "5.95 5.75096355299 False\n"
       ]
      }
     ],
     "prompt_number": 44
    },
    {
     "cell_type": "code",
     "collapsed": false,
     "input": [
      "# Question 4\n",
      "\n",
      "# f: [-1, 1]\n",
      "# f(x) = sin(pi * x)\n",
      "\n",
      "x1 = random.uniform(-1.0, 1.0)\n",
      "x2 = random.uniform(-1.0, 1.0)\n",
      "\n",
      "f_x1 = math.sin(math.pi * x1)\n",
      "f_x2 = math.sin(math.pi * x2)\n",
      "\n",
      "print x1, f_x1, x2, f_x2"
     ],
     "language": "python",
     "metadata": {},
     "outputs": [
      {
       "output_type": "stream",
       "stream": "stdout",
       "text": [
        "-0.432007732092 -0.977273273162 0.594899452391 0.955885848461\n"
       ]
      }
     ],
     "prompt_number": 60
    },
    {
     "cell_type": "code",
     "collapsed": false,
     "input": [
      "\n",
      "def simulate():\n",
      "\n",
      "    min_error = 4.\n",
      "    h_a = 0\n",
      "\n",
      "    x1 = random.uniform(-1.0, 1.0)\n",
      "    x2 = random.uniform(-1.0, 1.0)\n",
      "\n",
      "    f_x1 = math.sin(math.pi * x1)\n",
      "    f_x2 = math.sin(math.pi * x2)\n",
      "\n",
      "    for i in np.arange(0.1, 3.0, 0.1):\n",
      "        g_x1 = i * x1\n",
      "        g_x2 = i * x2\n",
      "        avg_error = ((f_x1 - g_x1)**2 + (f_x2 - g_x2)**2)/2.\n",
      "        if avg_error < min_error:\n",
      "            min_error = avg_error\n",
      "            h_a = i\n",
      "    return (h_a, min_error)"
     ],
     "language": "python",
     "metadata": {},
     "outputs": [],
     "prompt_number": 129
    },
    {
     "cell_type": "code",
     "collapsed": false,
     "input": [
      "x = 0\n",
      "for i in range(10000):\n",
      "    x = x + simulate()[0]\n",
      "x / 10000."
     ],
     "language": "python",
     "metadata": {},
     "outputs": [
      {
       "metadata": {},
       "output_type": "pyout",
       "prompt_number": 177,
       "text": [
        "1.42227999999999"
       ]
      }
     ],
     "prompt_number": 177
    },
    {
     "cell_type": "code",
     "collapsed": false,
     "input": [
      "\n",
      "def getBias():\n",
      "    x1 = random.uniform(-1.0, 1.0)\n",
      "\n",
      "    f_x1 = math.sin(math.pi * x1)\n",
      "    gbar_x1 = 1.42*x1\n",
      "\n",
      "    return (gbar_x1 - f_x1)**2\n",
      "\n",
      "\n",
      "n = 100000\n",
      "x = 0\n",
      "for i in range(n):\n",
      "    x = x + getBias()\n",
      "\n",
      "print \"Bias \", x/float(n)\n"
     ],
     "language": "python",
     "metadata": {},
     "outputs": [
      {
       "output_type": "stream",
       "stream": "stdout",
       "text": [
        "Bias  0.268334406084\n"
       ]
      }
     ],
     "prompt_number": 197
    },
    {
     "cell_type": "code",
     "collapsed": false,
     "input": [
      "    x1 = random.uniform(-1.0, 1.0)\n",
      "    \n",
      "    "
     ],
     "language": "python",
     "metadata": {},
     "outputs": [
      {
       "metadata": {},
       "output_type": "pyout",
       "prompt_number": 202,
       "text": [
        "(2.4000000000000004, 0.0040308513462258546)"
       ]
      }
     ],
     "prompt_number": 202
    },
    {
     "cell_type": "code",
     "collapsed": false,
     "input": [
      "def simulate2(x1, x2):\n",
      "\n",
      "    min_error = 4.\n",
      "    h_a = 0\n",
      "\n",
      "\n",
      "    f_x1 = math.sin(math.pi * x1)\n",
      "    f_x2 = math.sin(math.pi * x2)\n",
      "\n",
      "    for i in np.arange(0.1, 3.0, 0.1):\n",
      "        g_x1 = i * x1\n",
      "        g_x2 = i * x2\n",
      "        avg_error = ((f_x1 - g_x1)**2 + (f_x2 - g_x2)**2)/2.\n",
      "        if avg_error < min_error:\n",
      "            min_error = avg_error\n",
      "            h_a = i\n",
      "    return (h_a, min_error)\n",
      "\n",
      "\n",
      "def getVar(n):\n",
      "    x = 0\n",
      "    for i in range (n):\n",
      "        x1 = random.uniform(-1.0, 1.0)\n",
      "        x2 = random.uniform(-1.0, 1.0)\n",
      "        gbar_x1 = 1.42*x1\n",
      "        gbar_x2 = 1.42*x2\n",
      "        gval = simulate2(x1, x2)[0]\n",
      "        gdataset_x1 =  gval * x1\n",
      "        gdataset_x2 =  gval * x2\n",
      "        temp = ((gdataset_x1 - gbar_x1)**2 + (gdataset_x2 - gbar_x2)**2)/2.\n",
      "        x = x + temp\n",
      "    return x / float(n)\n",
      "\n",
      "getVar(10000)"
     ],
     "language": "python",
     "metadata": {},
     "outputs": [
      {
       "metadata": {},
       "output_type": "pyout",
       "prompt_number": 206,
       "text": [
        "0.2022221542697526"
       ]
      }
     ],
     "prompt_number": 206
    },
    {
     "cell_type": "code",
     "collapsed": false,
     "input": [
      "# ax^2\n",
      "\n",
      "def simulate_ax2():\n",
      "\n",
      "    min_error = 4.\n",
      "    h_a = 0\n",
      "\n",
      "    x1 = random.uniform(-1.0, 1.0)\n",
      "    x2 = random.uniform(-1.0, 1.0)\n",
      "\n",
      "    f_x1 = math.sin(math.pi * x1)\n",
      "    f_x2 = math.sin(math.pi * x2)\n",
      "\n",
      "    for i in np.arange(-3.0, 3.0, 0.1):\n",
      "        g_x1 = i * (x1**2)\n",
      "        g_x2 = i * (x2**2)\n",
      "        avg_error = ((f_x1 - g_x1)**2 + (f_x2 - g_x2)**2)/2.\n",
      "        if avg_error < min_error:\n",
      "            min_error = avg_error\n",
      "            h_a = i\n",
      "    return (h_a, min_error)\n",
      "\n",
      "x = 0\n",
      "for i in range(10000):\n",
      "    x = x + simulate_ax2()[0]\n",
      "x / 10000."
     ],
     "language": "python",
     "metadata": {},
     "outputs": [
      {
       "metadata": {},
       "output_type": "pyout",
       "prompt_number": 216,
       "text": [
        "-0.005879999999997239"
       ]
      }
     ],
     "prompt_number": 216
    },
    {
     "cell_type": "code",
     "collapsed": false,
     "input": [
      "def getBias_ax2():\n",
      "    x1 = random.uniform(-1.0, 1.0)\n",
      "\n",
      "    f_x1 = math.sin(math.pi * x1)\n",
      "    gbar_x1 = -0.0059*(x1**2)\n",
      "\n",
      "    return (gbar_x1 - f_x1)**2\n",
      "\n",
      "\n",
      "n = 1000000\n",
      "x = 0\n",
      "for i in range(n):\n",
      "    x = x + getBias_ax2()\n",
      "\n",
      "print \"Bias \", x/float(n)\n",
      "\n",
      "# Bias is already large ... adding variance will make E_out > 0.5"
     ],
     "language": "python",
     "metadata": {},
     "outputs": [
      {
       "output_type": "stream",
       "stream": "stdout",
       "text": [
        "Bias  0.499597207155\n"
       ]
      }
     ],
     "prompt_number": 223
    },
    {
     "cell_type": "code",
     "collapsed": false,
     "input": [
      "def simulate_ax2_plus_b():\n",
      "\n",
      "    min_error = 4.\n",
      "    h_a = 0\n",
      "    b_val = 0\n",
      "    x1 = random.uniform(-1.0, 1.0)\n",
      "    x2 = random.uniform(-1.0, 1.0)\n",
      "\n",
      "    f_x1 = math.sin(math.pi * x1)\n",
      "    f_x2 = math.sin(math.pi * x2)\n",
      "\n",
      "    for i in np.arange(-3.0, 3.0, 0.1):\n",
      "        for b in np.arange(-1,1,0.1):\n",
      "            g_x1 = i * (x1**2) + b\n",
      "            g_x2 = i * (x2**2) + b\n",
      "            avg_error = ((f_x1 - g_x1)**2 + (f_x2 - g_x2)**2)/2.\n",
      "            if avg_error < min_error:\n",
      "                min_error = avg_error\n",
      "                h_a = i\n",
      "                b_val = b\n",
      "    return (h_a, b_val, min_error)\n",
      "\n",
      "a_avg = 0\n",
      "b_avg = 0\n",
      "for i in range(10000):\n",
      "    res = simulate_ax2_plus_b()\n",
      "    a_avg = a_avg + res[0]\n",
      "    b_avg = b_avg + res[1]\n",
      "\n",
      "print \"a = \", a_avg/10000.\n",
      "print \"b = \", b_avg/10000."
     ],
     "language": "python",
     "metadata": {},
     "outputs": [
      {
       "output_type": "stream",
       "stream": "stdout",
       "text": [
        "a =  -0.00952\n",
        "b =  0.00288\n"
       ]
      }
     ],
     "prompt_number": 227
    },
    {
     "cell_type": "code",
     "collapsed": false,
     "input": [
      "def getBias_ax2_plus_b():\n",
      "    x1 = random.uniform(-1.0, 1.0)\n",
      "\n",
      "    f_x1 = math.sin(math.pi * x1)\n",
      "    gbar_x1 = -0.01*(x1**2) + 0.003\n",
      "\n",
      "    return (gbar_x1 - f_x1)**2\n",
      "\n",
      "\n",
      "n = 1000000\n",
      "x = 0\n",
      "for i in range(n):\n",
      "    x = x + getBias_ax2_plus_b()\n",
      "\n",
      "print \"Bias \", x/float(n)\n",
      "\n"
     ],
     "language": "python",
     "metadata": {},
     "outputs": [
      {
       "output_type": "stream",
       "stream": "stdout",
       "text": [
        "Bias  0.499961923521\n"
       ]
      }
     ],
     "prompt_number": 228
    },
    {
     "cell_type": "code",
     "collapsed": false,
     "input": [
      "def simulate_pix():\n",
      "\n",
      "    min_error = 4.\n",
      "    h_a = 0\n",
      "\n",
      "    x1 = random.uniform(-1.0, 1.0)\n",
      "    x2 = random.uniform(-1.0, 1.0)\n",
      "\n",
      "    f_x1 = math.sin(math.pi * x1)\n",
      "    f_x2 = math.sin(math.pi * x2)\n",
      "\n",
      "    for i in np.arange(0.1, 4.0, 0.1):\n",
      "        g_x1 = math.sin(i* x1)\n",
      "        g_x2 = math.sin(i * x2)\n",
      "        avg_error = ((f_x1 - g_x1)**2 + (f_x2 - g_x2)**2)/2.\n",
      "        if avg_error < min_error:\n",
      "            min_error = avg_error\n",
      "            h_a = i\n",
      "    return (h_a, min_error)\n",
      "\n",
      "x = 0\n",
      "for i in range(10000):\n",
      "    x = x + simulate_pix()[0]\n",
      "x / 10000."
     ],
     "language": "python",
     "metadata": {},
     "outputs": [
      {
       "metadata": {},
       "output_type": "pyout",
       "prompt_number": 229,
       "text": [
        "3.0659199999994691"
       ]
      }
     ],
     "prompt_number": 229
    },
    {
     "cell_type": "code",
     "collapsed": false,
     "input": [
      "def getBias_pix():\n",
      "    x1 = random.uniform(-1.0, 1.0)\n",
      "\n",
      "    f_x1 = math.sin(math.pi * x1)\n",
      "    gbar_x1 = math.sin(3.06*x1)\n",
      "\n",
      "    return (gbar_x1 - f_x1)**2\n",
      "\n",
      "\n",
      "n = 1000000\n",
      "x = 0\n",
      "for i in range(n):\n",
      "    x = x + getBias_pix()\n",
      "\n",
      "print \"Bias \", x/float(n)\n",
      "\n"
     ],
     "language": "python",
     "metadata": {},
     "outputs": [
      {
       "output_type": "stream",
       "stream": "stdout",
       "text": [
        "Bias  0.00124251466831\n"
       ]
      }
     ],
     "prompt_number": 230
    },
    {
     "cell_type": "code",
     "collapsed": false,
     "input": [],
     "language": "python",
     "metadata": {},
     "outputs": []
    }
   ],
   "metadata": {}
  }
 ]
}