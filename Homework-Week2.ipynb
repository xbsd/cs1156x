{
 "metadata": {
  "name": "",
  "signature": "sha256:d55ff8d942784df343029ae6f49b2e37a77b748ee4589bb19ccf2a7290907475"
 },
 "nbformat": 3,
 "nbformat_minor": 0,
 "worksheets": [
  {
   "cells": [
    {
     "cell_type": "code",
     "collapsed": false,
     "input": [
      "'''Run a computer simulation for flipping 1,000 virtual fair coins. Flip each coin independently 10 \n",
      "times. Focus on 3 coins as follows: c1 is the first coin flipped, crand is a coin chosen randomly \n",
      "from the 1,000, and cmin is the coin which had the minimum frequency of heads (pick the earlier one \n",
      "in case of a tie). Let \u03bd1, \u03bdrand, and \u03bdmin be the fraction of heads obtained for the 3 respective \n",
      "coins out of the 10 tosses.\n",
      "\n",
      "Run the experiment 100,000 times in order to get a full distribution of \u03bd1, \u03bdrand, and \u03bdmin \n",
      "(note that crand and cmin will change from run to run).\n",
      "1. The average value of \u03bdmin is closest to:\n",
      "[a] 0 [b] 0.01\n",
      "[c] 0.1 [d] 0.5\n",
      "[e] 0.67\n",
      "2. Which coin(s) has a distribution of \u03bd that satisfies Hoeffding\u2019s Inequality?\n",
      "[a] c1 only [b] crand only\n",
      "[c] cmin only [d] c1 and crand\n",
      "[e] cmin and crand'''\n",
      "print (\"Homework Week 2\")"
     ],
     "language": "python",
     "metadata": {},
     "outputs": [
      {
       "output_type": "stream",
       "stream": "stdout",
       "text": [
        "Homework Week 2\n"
       ]
      }
     ],
     "prompt_number": 3
    },
    {
     "cell_type": "code",
     "collapsed": false,
     "input": [
      "# Question 1\n",
      "\n",
      "import random\n",
      "import itertools\n",
      "import numpy as np\n",
      "from numba import jit, vectorize\n",
      "import numexpr as ne\n",
      "import random\n",
      "import pylab as plt\n",
      "%pylab inline\n"
     ],
     "language": "python",
     "metadata": {},
     "outputs": [
      {
       "output_type": "stream",
       "stream": "stdout",
       "text": [
        "Populating the interactive namespace from numpy and matplotlib\n"
       ]
      },
      {
       "output_type": "stream",
       "stream": "stderr",
       "text": [
        "WARNING: pylab import has clobbered these variables: ['vectorize', 'random']\n",
        "`%matplotlib` prevents importing * from pylab and numpy\n"
       ]
      }
     ],
     "prompt_number": 564
    },
    {
     "cell_type": "code",
     "collapsed": false,
     "input": [
      "print (\"Answers: \")\n",
      "print (\"Question 1 => 0.01 = Option b\")\n",
      "print (\"Question 2 => c1 and crand = Option d\")\n",
      "print (\"Question 3 => mu = Option a\")\n",
      "print (\"Question 4 => 1 = Option d\")"
     ],
     "language": "python",
     "metadata": {},
     "outputs": [
      {
       "output_type": "stream",
       "stream": "stdout",
       "text": [
        "Answers: \n",
        "Question 1 = 0.01 = Option b\n",
        "Question 2 = c1 and crand = Option d\n"
       ]
      }
     ],
     "prompt_number": 581
    },
    {
     "cell_type": "code",
     "collapsed": false,
     "input": [
      "\n",
      "def q1(numIterations, coins, flips):\n",
      "    f_flips = float(flips)\n",
      "    placeholder = np.zeros((numIterations,3)) # 100 iterations - 3 fixed values\n",
      "\n",
      "    for i in range(numIterations):\n",
      "        x = np.random.randint(2, size=(coins,flips))\n",
      "        x2 = np.sum(x, axis=1)/f_flips\n",
      "        result = np.array([x2[0], np.random.choice(x2), np.min(x2)]) # c1, crand, cmin\n",
      "        placeholder[i] = result\n",
      "\n",
      "    return placeholder"
     ],
     "language": "python",
     "metadata": {},
     "outputs": [],
     "prompt_number": 565
    },
    {
     "cell_type": "code",
     "collapsed": false,
     "input": [
      "numIterations = 100000\n",
      "coins = 1000\n",
      "flips = 10\n",
      "result = q1(numIterations, coins, flips)"
     ],
     "language": "python",
     "metadata": {},
     "outputs": [],
     "prompt_number": 566
    },
    {
     "cell_type": "code",
     "collapsed": false,
     "input": [
      "np.sum(result[:,2])/100000."
     ],
     "language": "python",
     "metadata": {},
     "outputs": [
      {
       "metadata": {},
       "output_type": "pyout",
       "prompt_number": 567,
       "text": [
        "0.037455000000000002"
       ]
      }
     ],
     "prompt_number": 567
    },
    {
     "cell_type": "code",
     "collapsed": false,
     "input": [
      "pl = plt.hist(result[:,1], 50, normed=1, facecolor='green', alpha=0.75)\n",
      "plt.show(pl)"
     ],
     "language": "python",
     "metadata": {},
     "outputs": [
      {
       "metadata": {},
       "output_type": "display_data",
       "png": "[encoded data removed]",
       "text": [
        "<matplotlib.figure.Figure at 0x11179a610>"
       ]
      }
     ],
     "prompt_number": 580
    },
    {
     "cell_type": "code",
     "collapsed": false,
     "input": [
      "print (\"These sections are for Questions 5,6,7\")\n",
      "print (\"They were done using R\")\n",
      "\n",
      "\n",
      "# Everything below this line is the content of the file that we will source\n",
      "\n",
      "# File: hw1_hw2_source.R\n",
      "\n",
      "## Function to generate the data (by Chaoping)\n",
      "data.generate = function(n = 10, ext = 1){ \n",
      "  # Generate the points.\n",
      "  x1 = runif(n, -ext, ext)\n",
      "  x2 = runif(n, -ext, ext)\n",
      "  \n",
      "  # Draw a random line in the area.\n",
      "  point = runif(2, -ext, ext)\n",
      "  point2 = runif(2, -ext, ext)\n",
      "  slope = (point2[2] - point[2]) / (point2[1] - point[1])\n",
      "  intercept = point[2] - slope * point[1]\n",
      "  \n",
      "  # Assign the dependent values.\n",
      "  y = as.numeric(x1 * slope + intercept > x2) * 2 - 1\n",
      "  \n",
      "  # Return the values.\n",
      "  data = data.frame(x1,x2,y)\n",
      "  return(list(data = data,slope = slope, intercept = intercept))\n",
      "}  \n",
      "\n",
      "\n",
      "##### PLA  #####\n",
      "\n",
      "# Help function to generate the test points (I used 10000 test points)\n",
      "\n",
      "data.gen2 <- function(n=10000){\n",
      "  x1 = runif(n, -1, 1)\n",
      "  x2 = runif(n, -1, 1)\n",
      "  data <- data.frame(x1,x2)\n",
      "  data\n",
      "}\n",
      "\n",
      "\n",
      "iterations <- numeric(0)    # initialising the iterations and misclassification probability vectors\n",
      "probability <- numeric(0)\n",
      "\n",
      "# Setting up the runs and the algorithm\n",
      "\n",
      "for (i in 1:10){\n",
      "  generated  <-  data.generate(n=10)    # generating points (set n=10 or n=100) and target function\n",
      "  input  <-  as.matrix(cbind(1, generated$data[c(1,2)])) # creating the input matrix\n",
      "  \n",
      "  w  <-  c(0,0,0)  # initializing the weights\n",
      "  res <- apply(input,1,function(x) t(w)%*%x)  # multiplying transpose of w with each row of input matrix \n",
      "  \n",
      "  k <- 1  # initializing the iterations\n",
      "  \n",
      "  while (any(sign(res)!=generated$data$y))    # as long as the sign of all elements of res vector differ from the true \n",
      "  {                                           # output y, we perform the PLA algorithm below\n",
      "    #cat(\"Iteration:\", k, \"\\n\")\n",
      "    mis <- which(sign(res)!=generated$data$y)  # getting the points for which hypotesis is wrong\n",
      "    ifelse (length(mis)==1, n <- mis, n <- sample(which(sign(res)!=generated$data$y),1))  # randomly sample one of these points\n",
      "    w <- w + generated$data$y[n]*input[n,]  # apply PLA, get new weights\n",
      "    res <- apply(input,1,function(x) t(w)%*%x)  # use new weights to get the new res vector\n",
      "    k <- k+1  # increase the iteration count\n",
      "  }\n",
      "  cat (\"Number of iterations to converge: \", k, \"\\n\")\n",
      "  iterations[i] <- k-1 # store the number of iterations needed in each run\n",
      "  \n",
      "  new.data <- data.gen2()  #  generating the test points for examining out-of-sample performance\n",
      "  f  <-  as.numeric(new.data$x1 * generated$slope + generated$intercept > new.data$x2) * 2 - 1  # classifying points according to the true function f\n",
      "  g  <-  as.numeric(new.data$x1 * (-w[2]/w[3]) - w[1]/w[3] > new.data$x2) * 2 - 1  # classifying points according to the hypothesised function g, using the \n",
      "  # final weights provided by PLA            \n",
      "  \n",
      "  probability[i] <- sum(f!=g)/10000  # store the misclassification errors from each run\n",
      "}\n",
      "\n",
      "# Main results: average of iterations and estimated misclassification probability\n",
      "mean(iterations)\n",
      "mean(probability)\n",
      "\n",
      "\n",
      "# Function to plot the points and f and g functions from  one iteration\n",
      "\n",
      "library(ggplot2)\n",
      "\n",
      "qplot(x1,x2,col= as.factor(y), data = generated$data) + \n",
      "  geom_abline(intercept = generated$intercept, slope = generated$slope) +\n",
      "  geom_abline(intercept = -w[1]/w[3], slope = -w[2]/w[3], col=3)\n",
      "\n",
      "# qplot(x1,x2,col= as.factor(y), data = generated$data) + \n",
      "#   geom_abline(intercept = generated$intercept, slope = generated$slope)\n",
      "\n",
      "\n",
      "#g  <-  as.numeric(new.data$x1 * (-w[2]/w[3]) - w[1]/w[3] > new.data$x2) * 2 - 1  # classifying points according to the hypothesised function g, using the \n"
     ],
     "language": "python",
     "metadata": {},
     "outputs": []
    },
    {
     "cell_type": "code",
     "collapsed": false,
     "input": [
      "\n",
      "source(\"hw1_hw2_source.R\")\n",
      "num_pts = 100\n",
      "num_iterations = 1000\n",
      "e_in = 0\n",
      "generated = data.generate(n=num_pts)\n",
      "\n",
      "\n",
      "for (i in 1:num_iterations) {\n",
      "  generated = data.generate(n=num_pts)\n",
      "  \n",
      "  new_mat = as.matrix(cbind(x0=1, generated$data[,1:2]))\n",
      "  \n",
      "  mat_inv = solve((t(new_mat) %*% new_mat)) %*% t(new_mat)\n",
      "  \n",
      "  w = mat_inv %*% generated$data[,3]\n",
      "  h_y = as.vector(sign(t(w) %*% as.matrix(t(as.matrix(new_mat)))))\n",
      "  \n",
      "  e_in = e_in + sum(generated$data$y != h_y) / num_pts\n",
      "  \n",
      "}\n",
      "\n",
      "average_e_in = e_in / num_iterations\n",
      "\n",
      "probability <- numeric(0)\n",
      "\n",
      "test_points = 1000\n",
      "\n",
      "for (k in 1:num_iterations){\n",
      "new.data <- data.gen2(n = test_points)  #  generating the test points for examining out-of-sample performance\n",
      "f  <-  as.numeric(new.data$x1 * generated$slope + generated$intercept > new.data$x2) * 2 - 1  # classifying points according to the true function f\n",
      "g  <-  as.numeric(new.data$x1 * (-w[2]/w[3]) - w[1]/w[3] > new.data$x2) * 2 - 1  # classifying points according to the hypothesised function g, using the \n",
      "# final weights provided by PLA            \n",
      "\n",
      "probability[k] <- sum(f!=g)/test_points  # store the misclassification errors from each run\n",
      "}\n",
      "\n",
      "cat (\"Answer 5: Average e_in is\", average_e_in, \"and average e_out is\", mean(probability))\n"
     ],
     "language": "python",
     "metadata": {},
     "outputs": []
    },
    {
     "cell_type": "code",
     "collapsed": false,
     "input": [
      "\n",
      "source(\"hw1_hw2_source.R\")\n",
      "\n",
      "num_pts = 10\n",
      "# Setting up the runs and the algorithm\n",
      "\n",
      "for (i in 1:1000){\n",
      "  generated = data.generate(n=num_pts)\n",
      "  \n",
      "  # Use linear regression to find w\n",
      "  new_mat = as.matrix(cbind(x0=1, generated$data[,1:2]))  \n",
      "  mat_inv = solve((t(new_mat) %*% new_mat)) %*% t(new_mat)\n",
      "  w = mat_inv %*% generated$data[,3] # Weights initialized\n",
      "  \n",
      "  #w <- c(0,0,0)\n",
      "  \n",
      "  # Back to PLA\n",
      "  input  <-  as.matrix(cbind(1, generated$data[c(1,2)])) # creating the input matrix\n",
      "  res <- apply(input,1,function(x) t(w)%*%x)  # multiplying transpose of w with each row of input matrix \n",
      "  \n",
      "  k <- 1  # initializing the iterations\n",
      "  \n",
      "  while (any(sign(res)!=generated$data$y))    # as long as the sign of all elements of res vector differ from the true \n",
      "  {                                           # output y, we perform the PLA algorithm below\n",
      "    #cat(\"Iteration:\", k, \"\\n\")\n",
      "    mis <- which(sign(res)!=generated$data$y)  # getting the points for which hypotesis is wrong\n",
      "    ifelse (length(mis)==1, n <- mis, n <- sample(which(sign(res)!=generated$data$y),1))  # randomly sample one of these points\n",
      "    w <- w + generated$data$y[n]*input[n,]  # apply PLA, get new weights\n",
      "    res <- apply(input,1,function(x) t(w)%*%x)  # use new weights to get the new res vector\n",
      "    k <- k+1  # increase the iteration count\n",
      "  }\n",
      "  cat (\"Number of iterations to converge: \", k, \"\\n\")\n",
      "  iterations[i] <- k-1 # store the number of iterations needed in each run\n",
      "}\n",
      "\n",
      "# Main results: average of iterations required to converge\n",
      "mean(iterations)\n"
     ],
     "language": "python",
     "metadata": {},
     "outputs": []
    },
    {
     "cell_type": "code",
     "collapsed": false,
     "input": [],
     "language": "python",
     "metadata": {},
     "outputs": []
    }
   ],
   "metadata": {}
  }
 ]
}