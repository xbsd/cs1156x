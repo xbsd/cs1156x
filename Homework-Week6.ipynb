{
 "metadata": {
  "name": "",
  "signature": "sha256:28c04640deb01da37d0fa30429f5ff1974bb8f88ee7c7a49745542aeab3515d3"
 },
 "nbformat": 3,
 "nbformat_minor": 0,
 "worksheets": [
  {
   "cells": [
    {
     "cell_type": "code",
     "collapsed": false,
     "input": [
      "# Homework Week 6\n",
      "import pandas as pd\n",
      "import numpy as np"
     ],
     "language": "python",
     "metadata": {},
     "outputs": [],
     "prompt_number": 3
    },
    {
     "cell_type": "code",
     "collapsed": false,
     "input": [
      "!wget http://work.caltech.edu/data/in.dta\n",
      "!wget http://work.caltech.edu/data/out.dta\n",
      "\n"
     ],
     "language": "python",
     "metadata": {},
     "outputs": [
      {
       "output_type": "stream",
       "stream": "stdout",
       "text": [
        "--2014-11-08 08:48:27--  http://work.caltech.edu/data/in.dta\r\n",
        "Resolving work.caltech.edu... 131.215.133.99\r\n",
        "Connecting to work.caltech.edu|131.215.133.99|:80... "
       ]
      },
      {
       "output_type": "stream",
       "stream": "stdout",
       "text": [
        "connected.\r\n",
        "HTTP request sent, awaiting response... "
       ]
      },
      {
       "output_type": "stream",
       "stream": "stdout",
       "text": [
        "200 OK\r\n",
        "Length: 1750 (1.7K) [text/plain]\r\n",
        "Saving to: 'in.dta.1'\r\n",
        "\r\n",
        "\r",
        " 0% [                                       ] 0           --.-K/s              \r",
        "100%[======================================>] 1,750       --.-K/s   in 0s      \r\n",
        "\r\n",
        "2014-11-08 08:48:28 (34.8 MB/s) - 'in.dta.1' saved [1750/1750]\r\n",
        "\r\n"
       ]
      },
      {
       "output_type": "stream",
       "stream": "stdout",
       "text": [
        "--2014-11-08 08:48:28--  http://work.caltech.edu/data/out.dta\r\n",
        "Resolving work.caltech.edu... 131.215.133.99\r\n",
        "Connecting to work.caltech.edu|131.215.133.99|:80... "
       ]
      },
      {
       "output_type": "stream",
       "stream": "stdout",
       "text": [
        "connected.\r\n"
       ]
      },
      {
       "output_type": "stream",
       "stream": "stdout",
       "text": [
        "HTTP request sent, awaiting response... "
       ]
      },
      {
       "output_type": "stream",
       "stream": "stdout",
       "text": [
        "200 OK\r\n",
        "Length: 12500 (12K) [text/plain]\r\n",
        "Saving to: 'out.dta.1'\r\n",
        "\r\n",
        "\r",
        " 0% [                                       ] 0           --.-K/s              \r",
        "100%[======================================>] 12,500      --.-K/s   in 0.001s  \r\n",
        "\r\n",
        "2014-11-08 08:48:28 (8.24 MB/s) - 'out.dta.1' saved [12500/12500]\r\n",
        "\r\n"
       ]
      }
     ],
     "prompt_number": 4
    },
    {
     "cell_type": "code",
     "collapsed": false,
     "input": [
      "!head out.dta"
     ],
     "language": "python",
     "metadata": {},
     "outputs": [
      {
       "output_type": "stream",
       "stream": "stdout",
       "text": [
        "  -1.0600562e-01  -8.1467034e-02  -1.0000000e+00\r",
        "\r\n",
        "   1.7792951e-01  -3.4595141e-01  -1.0000000e+00\r",
        "\r\n",
        "   1.0216153e-01   7.1825825e-01   1.0000000e+00\r",
        "\r\n",
        "   6.9407831e-01   6.2339743e-01  -1.0000000e+00\r",
        "\r\n",
        "   2.3541068e-02   7.2743221e-01   1.0000000e+00\r",
        "\r\n",
        "  -3.1972776e-01  -8.3411411e-01  -1.0000000e+00\r",
        "\r\n",
        "  -1.8674372e-01   5.3887798e-01   1.0000000e+00\r",
        "\r\n",
        "  -6.3696719e-01   1.5268485e-01   1.0000000e+00\r",
        "\r\n",
        "  -4.7446260e-01   8.5434436e-01   1.0000000e+00\r",
        "\r\n",
        "  -3.5627652e-02  -2.7158819e-01  -1.0000000e+00\r",
        "\r\n"
       ]
      }
     ],
     "prompt_number": 120
    },
    {
     "cell_type": "code",
     "collapsed": false,
     "input": [
      "train = np.loadtxt(\"in.dta\")\n",
      "test  = np.loadtxt(\"out.dta\")"
     ],
     "language": "python",
     "metadata": {},
     "outputs": [],
     "prompt_number": 25
    },
    {
     "cell_type": "code",
     "collapsed": false,
     "input": [
      "x0_in = np.ones(train.shape[0])\n",
      "x1_in = train[:,0]\n",
      "x2_in = train[:,1]\n",
      "y_in  = train[:,2]\n",
      "\n",
      "x0_out = np.ones(test.shape[0])\n",
      "x1_out = test[:,0]\n",
      "x2_out = test[:,1]\n",
      "y_out  = test[:,2]"
     ],
     "language": "python",
     "metadata": {},
     "outputs": [],
     "prompt_number": 104
    },
    {
     "cell_type": "code",
     "collapsed": false,
     "input": [
      "def transform(x0, x1, x2):\n",
      "    return np.matrix ([x0, x1, x2, x1**2, x2**2, x1*x2, np.abs(x1 - x2), np.abs(x1 + x2)])\n",
      "\n",
      "def getW(Z, y_value):\n",
      "    return np.dot(np.dot(np.linalg.inv(np.dot(Z, Z.T)), Z), y)"
     ],
     "language": "python",
     "metadata": {},
     "outputs": [],
     "prompt_number": 189
    },
    {
     "cell_type": "code",
     "collapsed": false,
     "input": [
      "def getError(x0,x1,x2,y):\n",
      "    Z = transform(x0, x1, x2)\n",
      "    W = np.dot(np.dot(np.linalg.inv(np.dot(Z, Z.T)), Z), y)\n",
      "    result = np.sign(W * Z)\n",
      "    misclassified = np.sum((result != y)*1)\n",
      "    return list([misclassified/np.float(Z.shape[1]), W])\n",
      "    "
     ],
     "language": "python",
     "metadata": {},
     "outputs": [],
     "prompt_number": 240
    },
    {
     "cell_type": "code",
     "collapsed": false,
     "input": [
      "# Question 2\n",
      "\n",
      "result_in = getError(x0_in, x1_in, x2_in, y_in)\n",
      "print \"E_in is \", result_in[0]\n",
      "W_in = result_in[1]\n",
      "E_out = np.sum(np.sign((transform(x0_out, x1_out, x2_out).T * W_in.T).flatten()) != y_out)*1/float(test.shape[0])\n",
      "print \"E_out is \", E_out\n",
      "print W_in"
     ],
     "language": "python",
     "metadata": {},
     "outputs": [
      {
       "output_type": "stream",
       "stream": "stdout",
       "text": [
        "E_in is  0.0285714285714\n",
        "E_out is  0.084\n",
        "[[-1.64706706 -0.14505927  0.10154121 -2.03296844 -1.82804373  2.48152945\n",
        "   4.15893861  0.31651714]]\n"
       ]
      }
     ],
     "prompt_number": 241
    },
    {
     "cell_type": "code",
     "collapsed": false,
     "input": [
      "# Question 3\n",
      "\n",
      "def getError_withReg(x0,x1,x2,y, lambda_val):\n",
      "    Z = transform(x0, x1, x2)\n",
      "    I = np.identity(Z.shape[0])    \n",
      "    W = np.dot(np.dot(np.linalg.inv(np.dot(Z, Z.T) + (lambda_val * I)), Z), y)\n",
      "    result = np.sign(W * Z)\n",
      "    misclassified = np.sum((result != y)*1)\n",
      "    return list([misclassified/np.float(Z.shape[1]), W])\n",
      "\n",
      "result_in_reg = getError_withReg(x0_in, x1_in, x2_in, y_in, lambda_val = 1e-3)\n",
      "print \"E_in_reg is \", result_in_reg[0]\n",
      "W_in_reg = result_in_reg[1]\n",
      "E_out_reg = np.sum(np.sign((transform(x0_out, x1_out, x2_out).T * W_in_reg.T).flatten()) != y_out)*1/float(test.shape[0])\n",
      "print \"E_out_reg is \", E_out_reg\n",
      "\n",
      "\n"
     ],
     "language": "python",
     "metadata": {},
     "outputs": [
      {
       "output_type": "stream",
       "stream": "stdout",
       "text": [
        "E_in_reg is  0.0285714285714\n",
        "E_out_reg is  0.08\n",
        "[[-1.6432827  -0.14333537  0.10144329 -2.02456533 -1.81721505  2.45550685\n",
        "   4.14009201  0.31960135]]\n"
       ]
      }
     ],
     "prompt_number": 271
    },
    {
     "cell_type": "code",
     "collapsed": false,
     "input": [
      "# Question 4\n",
      "result_in_reg = getError_withReg(x0_in, x1_in, x2_in, y_in, lambda_val = 1e3)\n",
      "print \"E_in_reg is \", result_in_reg[0]\n",
      "W_in_reg = result_in_reg[1]\n",
      "E_out_reg = np.sum(np.sign((transform(x0_out, x1_out, x2_out).T * W_in_reg.T).flatten()) != y_out)*1/float(test.shape[0])\n",
      "print \"E_out_reg is \", E_out_reg\n",
      "\n"
     ],
     "language": "python",
     "metadata": {},
     "outputs": [
      {
       "output_type": "stream",
       "stream": "stdout",
       "text": [
        "E_in_reg is  0.371428571429\n",
        "E_out_reg is  0.436\n"
       ]
      }
     ],
     "prompt_number": 272
    },
    {
     "cell_type": "code",
     "collapsed": false,
     "input": [
      "# Question 5\n",
      "\n",
      "for i in range(-2,3,1):\n",
      "    result_in_reg = getError_withReg(x0_in, x1_in, x2_in, y_in, lambda_val = 10**i)\n",
      "    print \"lambda: \", i\n",
      "    print \"----------------------------\"\n",
      "    print \"E_in_reg is \", result_in_reg[0]\n",
      "    W_in_reg = result_in_reg[1]\n",
      "    E_out_reg = np.sum(np.sign((transform(x0_out, x1_out, x2_out).T * W_in_reg.T).flatten()) != y_out)*1/float(test.shape[0])\n",
      "    print \"E_out_reg is \", E_out_reg\n",
      "    print \" \"\n",
      "\n"
     ],
     "language": "python",
     "metadata": {},
     "outputs": [
      {
       "output_type": "stream",
       "stream": "stdout",
       "text": [
        "lambda:  -2\n",
        "----------------------------\n",
        "E_in_reg is  0.0285714285714\n",
        "E_out_reg is  0.084\n",
        " \n",
        "lambda:  -1\n",
        "----------------------------\n",
        "E_in_reg is  0.0285714285714\n",
        "E_out_reg is  0.056\n",
        " \n",
        "lambda:  0\n",
        "----------------------------\n",
        "E_in_reg is  0.0\n",
        "E_out_reg is  0.092\n",
        " \n",
        "lambda:  1\n",
        "----------------------------\n",
        "E_in_reg is  0.0571428571429\n",
        "E_out_reg is  0.124\n",
        " \n",
        "lambda:  2\n",
        "----------------------------\n",
        "E_in_reg is  0.2\n",
        "E_out_reg is  0.228\n",
        " \n"
       ]
      }
     ],
     "prompt_number": 276
    },
    {
     "cell_type": "code",
     "collapsed": false,
     "input": [
      "# Question 5\n",
      "\n",
      "E_out_reg = 1\n",
      "\n",
      "for i in range(-10,10,1):\n",
      "    prev_E_out = E_out_reg\n",
      "    result_in_reg = getError_withReg(x0_in, x1_in, x2_in, y_in, lambda_val = 10**i)\n",
      "    W_in_reg = result_in_reg[1]\n",
      "    E_out_reg = np.sum(np.sign((transform(x0_out, x1_out, x2_out).T * W_in_reg.T).flatten()) != y_out)*1/float(test.shape[0])\n",
      "    print \"lambda: \", i, \"E_out_reg: \", E_out_reg\n",
      "    if E_out_reg < prev_E_out:\n",
      "        min_E_out = E_out_reg\n",
      "        min_lambda = i\n",
      "\n",
      "print \"\"\n",
      "print \"Min Lambda: \", min_lambda, \" Min E_out: \", min_E_out\n",
      "\n",
      "\n"
     ],
     "language": "python",
     "metadata": {},
     "outputs": [
      {
       "output_type": "stream",
       "stream": "stdout",
       "text": [
        "lambda:  -10 E_out_reg:  0.084\n",
        "lambda:  -9 E_out_reg:  0.084\n",
        "lambda:  -8 E_out_reg:  0.084\n",
        "lambda:  -7 E_out_reg:  0.084\n",
        "lambda:  -6 E_out_reg:  0.084\n",
        "lambda:  -5 E_out_reg:  0.084\n",
        "lambda:  -4 E_out_reg:  0.084\n",
        "lambda:  -3 E_out_reg:  0.08\n",
        "lambda:  -2 E_out_reg:  0.084\n",
        "lambda:  -1 E_out_reg:  0.056\n",
        "lambda:  0 E_out_reg:  0.092\n",
        "lambda:  1 E_out_reg:  0.124\n",
        "lambda:  2 E_out_reg:  0.228\n",
        "lambda:  3 E_out_reg:  0.436\n",
        "lambda:  4 E_out_reg:  0.452\n",
        "lambda:  5 E_out_reg:  0.456\n",
        "lambda:  6 E_out_reg:  0.456\n",
        "lambda:  7 E_out_reg:  0.456\n",
        "lambda:  8 E_out_reg:  0.456\n",
        "lambda:  9 E_out_reg:  0.456\n",
        "\n",
        "Min Lambda:  -1  Min E_out:  0.056\n"
       ]
      }
     ],
     "prompt_number": 280
    },
    {
     "cell_type": "code",
     "collapsed": false,
     "input": [],
     "language": "python",
     "metadata": {},
     "outputs": [
      {
       "metadata": {},
       "output_type": "pyout",
       "prompt_number": 183,
       "text": [
        "matrix([[14]])"
       ]
      }
     ],
     "prompt_number": 183
    },
    {
     "cell_type": "code",
     "collapsed": false,
     "input": [],
     "language": "python",
     "metadata": {},
     "outputs": []
    }
   ],
   "metadata": {}
  }
 ]
}