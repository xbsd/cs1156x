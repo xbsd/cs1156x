{
 "metadata": {
  "name": "",
  "signature": "sha256:e5f2e29802c3e272a658310bc49043adf21981b8ec60bfe17d7a497928a51d9e"
 },
 "nbformat": 3,
 "nbformat_minor": 0,
 "worksheets": [
  {
   "cells": [
    {
     "cell_type": "code",
     "collapsed": false,
     "input": [
      "import random"
     ],
     "language": "python",
     "metadata": {},
     "outputs": [],
     "prompt_number": 2
    },
    {
     "cell_type": "code",
     "collapsed": false,
     "input": [
      "bags = {'bag1':['b','b'], 'bag2':['w','b']}\n",
      "\n",
      "def getBall(bags):\n",
      "    mypick = random.choice([0,1])\n",
      "    mypick = bags.keys()[mypick]\n",
      "    selectedBag = bags[mypick]\n",
      "\n",
      "    #print (mypick),\n",
      "    #print (\":\"),\n",
      "    #print (selectedBag)\n",
      "\n",
      "    selectedBag.pop(selectedBag.index('b'))\n",
      "    selectedBag\n",
      "\n",
      "    left = selectedBag.pop()\n",
      "    return left\n"
     ],
     "language": "python",
     "metadata": {},
     "outputs": [],
     "prompt_number": 205
    },
    {
     "cell_type": "code",
     "collapsed": false,
     "input": [
      "\n",
      "print \"QUESTION 3\"\n",
      "\n",
      "numTrials = 1000000\n",
      "\n",
      "i = 0.\n",
      "\n",
      "for l in range(numTrials):\n",
      "    x = getBall(bags={'bag1':['b','b'], 'bag2':['w','b']})\n",
      "    if x == 'b':\n",
      "        i = i + 1\n",
      "        #print (x)\n",
      "\n",
      "    \n",
      "print (i/numTrials)"
     ],
     "language": "python",
     "metadata": {},
     "outputs": [
      {
       "output_type": "stream",
       "stream": "stdout",
       "text": [
        "QUESTION 3\n",
        "0.500277"
       ]
      },
      {
       "output_type": "stream",
       "stream": "stdout",
       "text": [
        "\n"
       ]
      }
     ],
     "prompt_number": 218
    },
    {
     "cell_type": "code",
     "collapsed": false,
     "input": [
      "print (\"QUESTION 4\")\n",
      "!RScript -e 'dbinom(0,10,0.55)'"
     ],
     "language": "python",
     "metadata": {},
     "outputs": [
      {
       "output_type": "stream",
       "stream": "stdout",
       "text": [
        "QUESTION 4\n"
       ]
      },
      {
       "output_type": "stream",
       "stream": "stdout",
       "text": [
        "[1] 0.0003405063\r\n"
       ]
      }
     ],
     "prompt_number": 4
    },
    {
     "cell_type": "code",
     "collapsed": false,
     "input": [
      "print (\"QUESTION 5\")\n",
      "!Rscript -e '1 - pbinom(0,10,0.55,F)**1000'"
     ],
     "language": "python",
     "metadata": {},
     "outputs": [
      {
       "output_type": "stream",
       "stream": "stdout",
       "text": [
        "QUESTION 5\n"
       ]
      },
      {
       "output_type": "stream",
       "stream": "stdout",
       "text": [
        "[1] 0.2886312\r\n"
       ]
      }
     ],
     "prompt_number": 9
    },
    {
     "cell_type": "code",
     "collapsed": false,
     "input": [
      "((100**1000) - 45**1000)/(100**1000)\n"
     ],
     "language": "python",
     "metadata": {},
     "outputs": [
      {
       "metadata": {},
       "output_type": "pyout",
       "prompt_number": 8,
       "text": [
        "0L"
       ]
      }
     ],
     "prompt_number": 8
    },
    {
     "cell_type": "code",
     "collapsed": false,
     "input": [
      "import pylab as plt\n",
      "\n",
      "def create_sample_and_target(sampleSize):\n",
      "    # create the sample-points\n",
      "    x_points = tuple([random.uniform(-1,1) for i in xrange(sampleSize)])\n",
      "    y_points = tuple([random.uniform(-1,1) for i in xrange(sampleSize)])\n",
      "    # create the target function from two random points:\n",
      "    x1_t = random.uniform(-1,1)\n",
      "    x2_t = random.uniform(-1,1)\n",
      "    y1_t = random.uniform(-1,1)\n",
      "    y2_t = random.uniform(-1,1)\n",
      "    m = (y2_t-y1_t)/(x2_t-x1_t)\n",
      "    b = y1_t-m * x1_t\n",
      "    # Evaluate if data-point is on right or left side of plane\n",
      "    results = map(lambda x,y: y > m * x + b,x_points,y_points)\n",
      "    results_to_num = [1 if result else -1 for result in results]\n",
      "    # Prepare for Plotting\n",
      "    above_x = [x_point for x_point, result in zip(x_points,results) if result]\n",
      "    above_y = [y_point for y_point, result in zip(y_points,results) if result]\n",
      "    below_x = [x_point for x_point, result in zip(x_points,results) if not result]\n",
      "    below_y = [y_point for y_point, result in zip(y_points,results) if not result]\n",
      "    fig = plt.figure() \n",
      "    ax = fig.add_subplot(111)\n",
      "    ax.plot([-1,1],[-m+b,m + b])\n",
      "    ax.set_xlim([-1,1])\n",
      "    ax.set_ylim([-1,1])\n",
      "    ax.plot(x_points,y_points,'x')\n",
      "    ax.plot(above_x,above_y,'ro')\n",
      "    ax.plot(below_x,below_y,'bo')\n",
      "    plt.show()\n",
      "    return x_points, y_points, results_to_num, m, b\n"
     ],
     "language": "python",
     "metadata": {},
     "outputs": []
    },
    {
     "cell_type": "code",
     "collapsed": false,
     "input": [
      "create_sample_and_target(10)"
     ],
     "language": "python",
     "metadata": {},
     "outputs": []
    },
    {
     "cell_type": "code",
     "collapsed": false,
     "input": [],
     "language": "python",
     "metadata": {},
     "outputs": []
    }
   ],
   "metadata": {}
  }
 ]
}