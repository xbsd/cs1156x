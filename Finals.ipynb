{
 "metadata": {
  "name": "",
  "signature": "sha256:39c7811d9875a9b9e017e1a0097abebc2aed20c754b0771d2fc9dc3fc61d9805"
 },
 "nbformat": 3,
 "nbformat_minor": 0,
 "worksheets": [
  {
   "cells": [
    {
     "cell_type": "code",
     "collapsed": false,
     "input": [
      "%matplotlib inline\n",
      "import pandas as pd\n",
      "import numpy as np\n",
      "import matplotlib.pyplot as plt\n",
      "import json, matplotlib\n",
      "s = json.load(open(\"custom_style.json\"))\n",
      "matplotlib.rcParams.update(s)\n"
     ],
     "language": "python",
     "metadata": {},
     "outputs": [],
     "prompt_number": 131
    },
    {
     "cell_type": "code",
     "collapsed": false,
     "input": [
      "%load_ext rpy2.ipython"
     ],
     "language": "python",
     "metadata": {},
     "outputs": [
      {
       "output_type": "stream",
       "stream": "stdout",
       "text": [
        "data.table 1.9.2  For help type: help(\"data.table\")\n"
       ]
      }
     ],
     "prompt_number": 182
    },
    {
     "cell_type": "code",
     "collapsed": false,
     "input": [
      "train = np.genfromtxt(\"http://www.amlbook.com/data/zip/features.train\")\n",
      "test  = np.genfromtxt(\"http://www.amlbook.com/data/zip/features.test\")\n",
      "\n",
      "x0_in = np.ones(train.shape[0])\n",
      "x1_in = train[:,1]\n",
      "x2_in = train[:,2]\n",
      "y_in  = train[:,0]\n",
      "\n",
      "x0_out = np.ones(test.shape[0])\n",
      "x1_out = test[:,1]\n",
      "x2_out = test[:,2]\n",
      "y_out  = test[:,0]"
     ],
     "language": "python",
     "metadata": {},
     "outputs": [],
     "prompt_number": 103
    },
    {
     "cell_type": "code",
     "collapsed": false,
     "input": [
      "def transform(x0, x1, x2):\n",
      "    return np.matrix ([x0, x1, x2, x1*x2, x1**2, x2**2])\n",
      "\n",
      "def noTransform(x0, x1, x2):\n",
      "    return np.matrix ([x0, x1, x2])\n",
      "\n",
      "\n",
      "def getW(Z, y_value):\n",
      "    return np.dot(np.dot(np.linalg.inv(np.dot(Z, Z.T)), Z), y)\n",
      "    \n",
      "def getError_withReg(x0,x1,x2,y, lambda_val, doTransform, useW, W_val):\n",
      "    \n",
      "    if (doTransform == \"Y\"):\n",
      "        Z = transform(x0, x1, x2)\n",
      "        #print \"Transforming\"\n",
      "    else:\n",
      "        Z = noTransform(x0, x1, x2)\n",
      "        #print \"No Transform\"\n",
      "        \n",
      "    I = np.identity(Z.shape[0])\n",
      "    if (useW == \"F\"):\n",
      "        W = np.dot(np.dot(np.linalg.inv(np.dot(Z, Z.T) + (lambda_val * I)), Z), y)\n",
      "    else:\n",
      "        W = W_val\n",
      "        #print \"Using W\"\n",
      "    result = np.sign(W * Z)\n",
      "    misclassified = np.sum((result != y)*1)\n",
      "    #print (misclassified)\n",
      "    return list([misclassified/np.float(Z.shape[1]), W])\n",
      "\n",
      "def updateY(y, digit):\n",
      "    y_copy = np.copy(y)\n",
      "    y_copy[y_copy!=digit] = -1\n",
      "    y_copy[y_copy==digit] = 1\n",
      "    return y_copy\n"
     ],
     "language": "python",
     "metadata": {},
     "outputs": [],
     "prompt_number": 76
    },
    {
     "cell_type": "code",
     "collapsed": false,
     "input": [
      "# Question 7\n",
      "lowest = 1\n",
      "lowString = \"\"\n",
      "\n",
      "for digitVal in [5,6,7,8,9]:\n",
      "    result = getError_withReg(x0 = x0_in, x1 = x1_in, x2 = x2_in, \\\n",
      "                 y = updateY(y_in, digitVal), lambda_val = lambdaVal, \\\n",
      "                 doTransform = \"N\", useW = \"F\", W_val = 0)\n",
      "    \n",
      "    print digitVal, \" vs all: \", result[0]\n",
      "    \n",
      "    if (result[0]) < lowest:\n",
      "        lowString = digitVal, \" vs all: \", result[0], \" is the lowest\"\n",
      "        lowest = result[0]\n",
      "\n",
      "print \"Lowest: \", lowString\n"
     ],
     "language": "python",
     "metadata": {},
     "outputs": [
      {
       "output_type": "stream",
       "stream": "stdout",
       "text": [
        "5  vs all:  0.0762584007681\n",
        "6  vs all:  0.0910711836511\n",
        "7  vs all:  0.0884652311068\n",
        "8  vs all:  0.0743382252092\n",
        "9  vs all:  0.0883280757098\n",
        "Lowest:  (8, ' vs all: ', 0.074338225209161987, ' is the lowest')\n"
       ]
      }
     ],
     "prompt_number": 77
    },
    {
     "cell_type": "code",
     "collapsed": false,
     "input": [
      "# Question 8\n",
      "lowest = 1\n",
      "lowString = \"\"\n",
      "lambdaVal = 1\n",
      "\n",
      "for digitVal in [0,1,2,3,4]:\n",
      "    result_in = getError_withReg(x0 = x0_in, x1 = x1_in, x2 = x2_in, \\\n",
      "                 y = updateY(y_in, digitVal), lambda_val = lambdaVal, \\\n",
      "                 doTransform = \"Y\", useW = \"F\", W_val = 0)\n",
      "    \n",
      "    W_in_reg = result_in[1]\n",
      "\n",
      "    result_out = getError_withReg(x0 = x0_out, x1 = x1_out, x2 = x2_out, \\\n",
      "                 y = updateY(y_out, digitVal), lambda_val = lambdaVal, \\\n",
      "                 doTransform = \"Y\", useW = \"T\", W_val = W_in_reg)\n",
      "    \n",
      "\n",
      "    print digitVal, \" vs all: \", result_out[0]\n",
      "\n",
      "    if (result_out[0]) < lowest:\n",
      "        lowString = digitVal, \" vs all: \", result_out[0], \" is the lowest\"\n",
      "        lowest = result_out[0]\n",
      "\n",
      "print \"Lowest: \", lowString\n"
     ],
     "language": "python",
     "metadata": {},
     "outputs": [
      {
       "output_type": "stream",
       "stream": "stdout",
       "text": [
        "0  vs all:  0.106626806178\n",
        "1  vs all:  0.02192326856\n",
        "2  vs all:  0.0986547085202\n",
        "3  vs all:  0.0827105132038\n",
        "4  vs all:  0.0996512207275\n",
        "Lowest:  (1, ' vs all: ', 0.021923268560039861, ' is the lowest')\n"
       ]
      }
     ],
     "prompt_number": 78
    },
    {
     "cell_type": "code",
     "collapsed": false,
     "input": [
      "# Question 9\n",
      "\n",
      "lambdaVal = 1\n",
      "\n",
      "print \"With Transform\"\n",
      "for digit_val in range(10):\n",
      "    \n",
      "    # With Transform\n",
      "    \n",
      "    y_in2 = np.copy(y_in)\n",
      "    y_in_truth = (y_in2==digit_val)\n",
      "    y_in_new = -1*np.ones(y_in2.shape[0])\n",
      "    y_in_new[y_in_truth] = 1\n",
      "    \n",
      "    result_in_trans = getError_withReg(x0 = x0_in, \\\n",
      "                x1 = x1_in, \\\n",
      "                x2 = x2_in, \\\n",
      "                 y = updateY(y_in_new, 1), lambda_val = lambdaVal, \\\n",
      "                 doTransform = \"Y\", useW = \"F\", W_val = 0)\n",
      "    \n",
      "    W_in_reg_trans = result_in_trans[1]\n",
      "\n",
      "    y_out2 = np.copy(y_out)\n",
      "    y_out_truth = (y_out2==digit_val)\n",
      "    y_out_new = -1*np.ones(y_out2.shape[0])\n",
      "    y_out_new[y_out_truth] = 1\n",
      "    \n",
      "    result_out_trans = getError_withReg(x0 = x0_out, \\\n",
      "                x1 = x1_out, \\\n",
      "                x2 = x2_out, \\\n",
      "                 y = y_out_new, lambda_val = lambdaVal, \\\n",
      "                 doTransform = \"Y\", useW = \"T\", W_val = W_in_reg_trans)\n",
      "\n",
      "    print \"Digit: \", digit_val, \" E_in: \", result_in_trans[0],\\\n",
      "    \"E_out: \", result_out_trans[0]\n",
      "\n",
      "# Question 10\n",
      "\n",
      "lambdaVal = 1\n",
      "\n",
      "print \"No Transform\"\n",
      "for digit_val in range(10):\n",
      "    \n",
      "    # No Transform\n",
      "    \n",
      "    y_in2 = np.copy(y_in)\n",
      "    y_in_truth = (y_in2==digit_val)\n",
      "    y_in_new = -1*np.ones(y_in2.shape[0])\n",
      "    y_in_new[y_in_truth] = 1\n",
      "    \n",
      "    result_in_trans = getError_withReg(x0 = x0_in, \\\n",
      "                x1 = x1_in, \\\n",
      "                x2 = x2_in, \\\n",
      "                 y = updateY(y_in_new, 1), lambda_val = lambdaVal, \\\n",
      "                 doTransform = \"N\", useW = \"F\", W_val = 0)\n",
      "    \n",
      "    W_in_reg_trans = result_in_trans[1]\n",
      "\n",
      "    y_out2 = np.copy(y_out)\n",
      "    y_out_truth = (y_out2==digit_val)\n",
      "    y_out_new = -1*np.ones(y_out2.shape[0])\n",
      "    y_out_new[y_out_truth] = 1\n",
      "    \n",
      "    result_out_trans = getError_withReg(x0 = x0_out, \\\n",
      "                x1 = x1_out, \\\n",
      "                x2 = x2_out, \\\n",
      "                 y = y_out_new, lambda_val = lambdaVal, \\\n",
      "                 doTransform = \"N\", useW = \"T\", W_val = W_in_reg_trans)\n",
      "\n",
      "    print \"Digit: \", digit_val, \" E_in: \", result_in_trans[0],\\\n",
      "    \"E_out: \", result_out_trans[0]\n",
      "    "
     ],
     "language": "python",
     "metadata": {},
     "outputs": [
      {
       "output_type": "stream",
       "stream": "stdout",
       "text": [
        "With Transform\n",
        "Digit:  0  E_in:  0.10231792621 E_out:  0.106626806178\n",
        "Digit:  1  E_in:  0.0123439857358 E_out:  0.02192326856\n",
        "Digit:  2  E_in:  0.100260595254 E_out:  0.0986547085202\n",
        "Digit:  3  E_in:  0.0902482512687 E_out:  0.0827105132038\n",
        "Digit:  4  E_in:  0.0894253188863 E_out:  0.0996512207275\n",
        "Digit:  5  E_in:  0.0762584007681 E_out:  0.0792227204783\n",
        "Digit:  6  E_in:  0.0910711836511 E_out:  0.0847035376183\n",
        "Digit:  7  E_in:  0.0884652311068 E_out:  0.0732436472347\n",
        "Digit:  8  E_in:  0.0743382252092 E_out:  0.0827105132038\n",
        "Digit:  9  E_in:  0.0883280757098 E_out:  0.0881913303438\n",
        "No Transform\n",
        "Digit:  0  E_in:  0.109312851461 E_out:  0.11509715994\n",
        "Digit:  1  E_in:  0.0152242490742 E_out:  0.0224215246637\n",
        "Digit:  2  E_in:  0.100260595254 E_out:  0.0986547085202\n",
        "Digit:  3  E_in:  0.0902482512687 E_out:  0.0827105132038\n",
        "Digit:  4  E_in:  0.0894253188863 E_out:  0.0996512207275\n",
        "Digit:  5  E_in:  0.0762584007681 E_out:  0.079720976582\n",
        "Digit:  6  E_in:  0.0910711836511 E_out:  0.0847035376183\n",
        "Digit:  7  E_in:  0.0884652311068 E_out:  0.0732436472347\n",
        "Digit:  8  E_in:  0.0743382252092 E_out:  0.0827105132038\n",
        "Digit:  9  E_in:  0.0883280757098 E_out:  0.0881913303438\n"
       ]
      }
     ],
     "prompt_number": 129
    },
    {
     "cell_type": "code",
     "collapsed": false,
     "input": [
      "# Question 10\n",
      "\n",
      "lambdaVal = 1\n",
      "\n",
      "digitList = []\n",
      "transList = []\n",
      "noTransList = []\n",
      "\n",
      "for lambdaVal in [0.01, 1.]:\n",
      "    \n",
      "    # With Transform\n",
      "    \n",
      "    y_in_truth = (y_in==1)|(y_in==5)\n",
      "    y_in_new = y_in[y_in_truth]\n",
      "    \n",
      "    result_in_trans = getError_withReg(x0 = x0_in[y_in_truth], \\\n",
      "                x1 = x1_in[y_in_truth], \\\n",
      "                x2 = x2_in[y_in_truth], \\\n",
      "                 y = updateY(y_in_new, 1), lambda_val = lambdaVal, \\\n",
      "                 doTransform = \"Y\", useW = \"F\", W_val = 0)\n",
      "    \n",
      "    W_in_reg_trans = result_in_trans[1]\n",
      "\n",
      "    y_out_truth = (y_out==1)|(y_out==5)\n",
      "    y_out_new = y_out[y_out_truth]\n",
      "    result_out_trans = getError_withReg(x0 = x0_out[y_out_truth], \\\n",
      "                x1 = x1_out[y_out_truth], \\\n",
      "                x2 = x2_out[y_out_truth], \\\n",
      "                 y = updateY(y_out_new, 1), lambda_val = lambdaVal, \\\n",
      "                 doTransform = \"Y\", useW = \"T\", W_val = W_in_reg_trans)\n",
      "\n",
      "    print \"Lambda: \", lambdaVal, \" E_in: \", result_in_trans[0],\\\n",
      "    \"E_out: \", result_out_trans[0]\n",
      "    "
     ],
     "language": "python",
     "metadata": {},
     "outputs": [
      {
       "output_type": "stream",
       "stream": "stdout",
       "text": [
        "Lambda:  0.01  E_in:  0.00448430493274 E_out:  0.0283018867925\n",
        "Lambda:  1.0  E_in:  0.00512491992313 E_out:  0.0259433962264\n"
       ]
      }
     ],
     "prompt_number": 124
    },
    {
     "cell_type": "code",
     "collapsed": false,
     "input": [
      "y_in[(y_in==5)|(y_in==1)]"
     ],
     "language": "python",
     "metadata": {},
     "outputs": [
      {
       "metadata": {},
       "output_type": "pyout",
       "prompt_number": 118,
       "text": [
        "array([ 5.,  1.,  1., ...,  1.,  1.,  1.])"
       ]
      }
     ],
     "prompt_number": 118
    },
    {
     "cell_type": "code",
     "collapsed": false,
     "input": [
      "# Question 11\n",
      "\n",
      "ones = np.ones(7)\n",
      "x1 = np.array([1,0,0,-1,0,0,-2])\n",
      "x2 = np.array([0,1,-1,0,2,-2,0])\n",
      "vals = [-1,-1,-1,1,1,1,1]\n",
      "\n",
      "z1 = x2**2 - 2*x1 - 1\n",
      "z2 = x1**2 - 2*x2 + 1\n",
      "\n",
      "w_opts = [[-1,1,-0.5], [1,-1,-0.5], [1,0,-0,5], [0,1,-0.5]]\n",
      "col = vals\n",
      "\n",
      "for i_value in range(4):\n",
      "    print \"Choice\", i_value+1, \"w_value:\", w_opts[i_value]\n",
      "    w_norm = np.linalg.norm(w_opts[i_value])\n",
      "    labels = np.round(np.multiply(np.dot(np.array([z1,z2]).T, np.array(w_opts[i_value][0:2])) + w_opts[i_value][2], vals)/w_norm,2)\n",
      "    print \"w_norm = \", 1/w_norm\n",
      "    margin_val = np.round(np.multiply(np.dot(np.array([z1,z2]).T, np.array(w_opts[i_value][0:2])) + w_opts[i_value][2], vals))\n",
      "    print \"Closest Pts Margin = \", margin_val\n",
      "    plt.figure()\n",
      "    plt.scatter(z1, z2, c=col, s = 50)\n",
      "    for i, txt in enumerate(labels):\n",
      "        plt.annotate(txt, (z1[i],z2[i]))\n",
      "    plt.show()\n",
      "\n"
     ],
     "language": "python",
     "metadata": {},
     "outputs": [
      {
       "output_type": "stream",
       "stream": "stdout",
       "text": [
        "Choice 1 w_value: [-1, 1, -0.5]\n",
        "w_norm =  0.666666666667\n",
        "Closest Pts Margin =  [-4.  2. -2.  0. -6.  2.  2.]\n"
       ]
      },
      {
       "metadata": {},
       "output_type": "display_data",
       "png": "[encoded data removed]",
       "text": [
        "<matplotlib.figure.Figure at 0x10aa03b10>"
       ]
      },
      {
       "output_type": "stream",
       "stream": "stdout",
       "text": [
        "Choice 2 w_value: [1, -1, -0.5]\n",
        "w_norm =  0.666666666667\n",
        "Closest Pts Margin =  [ 6. -0.  4. -2.  6. -2. -2.]\n"
       ]
      },
      {
       "metadata": {},
       "output_type": "display_data",
       "png": "[encoded data removed]",
       "text": [
        "<matplotlib.figure.Figure at 0x10a9a3210>"
       ]
      },
      {
       "output_type": "stream",
       "stream": "stdout",
       "text": [
        "Choice 3 w_value: [1, 0, 0, 5]\n",
        "w_norm =  0.196116135138\n",
        "Closest Pts Margin =  [3 0 0 1 3 3 3]\n"
       ]
      },
      {
       "metadata": {},
       "output_type": "display_data",
       "png": "[encoded data removed]",
       "text": [
        "<matplotlib.figure.Figure at 0x10a801410>"
       ]
      },
      {
       "output_type": "stream",
       "stream": "stdout",
       "text": [
        "Choice 4 w_value: [0, 1, -0.5]\n",
        "w_norm =  0.894427191\n",
        "Closest Pts Margin =  [-2.  2. -2.  2. -4.  4.  4.]\n"
       ]
      },
      {
       "metadata": {},
       "output_type": "display_data",
       "png": "[encoded data removed]",
       "text": [
        "<matplotlib.figure.Figure at 0x10a1d5250>"
       ]
      }
     ],
     "prompt_number": 179
    },
    {
     "cell_type": "code",
     "collapsed": false,
     "input": [
      "%%R\n",
      "# Question 12\n",
      "\n",
      "library(e1071)\n",
      "library(data.table)\n",
      "setwd(\"~/Documents/study//edX/cs1156x/\")\n",
      "\n",
      "\n",
      "x1 = c(1,0,0,-1,0,0,-2)\n",
      "x2 = c(0,1,-1,0,2,-2,0)\n",
      "y = c(-1,-1,-1,1,1,1,1)\n",
      "\n",
      "tr = data.frame(x1=x1, x2=x2, y=y)\n",
      "\n",
      "\n",
      "model_svm <- svm(y ~ ., data = tr, scale = FALSE, kernel = \"polynomial\", \n",
      "                   degree = 2,\n",
      "                   type = \"C-classification\",\n",
      "                   coef0 = 1,\n",
      "                   shrinking = FALSE,\n",
      "                   gamma = 1,\n",
      "                   cost = 1e6)\n",
      "paste0 (\"Number of Support Vectors = \", model_svm$tot.nSV)\n",
      "\n",
      "\n",
      "\n"
     ],
     "language": "python",
     "metadata": {},
     "outputs": [
      {
       "metadata": {},
       "output_type": "display_data",
       "text": [
        "[1] \"Number of Support Vectors = 5\"\n"
       ]
      }
     ],
     "prompt_number": 184
    },
    {
     "cell_type": "code",
     "collapsed": false,
     "input": [],
     "language": "python",
     "metadata": {},
     "outputs": []
    }
   ],
   "metadata": {}
  }
 ]
}